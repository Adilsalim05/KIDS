{
 "cells": [
  {
   "cell_type": "code",
   "execution_count": 2,
   "id": "ddd421cf",
   "metadata": {},
   "outputs": [
    {
     "name": "stdout",
     "output_type": "stream",
     "text": [
      "Collecting graphistry\n",
      "  Downloading graphistry-0.23.2-py3-none-any.whl (127 kB)\n",
      "     |████████████████████████████████| 127 kB 4.0 MB/s            \n",
      "\u001b[?25hRequirement already satisfied: requests in /opt/anaconda3/lib/python3.8/site-packages (from graphistry) (2.25.1)\n",
      "Requirement already satisfied: pandas>=0.17.0 in /opt/anaconda3/lib/python3.8/site-packages (from graphistry) (1.2.4)\n",
      "Requirement already satisfied: numpy in /opt/anaconda3/lib/python3.8/site-packages (from graphistry) (1.20.1)\n",
      "Collecting pyarrow>=0.15.0\n",
      "  Downloading pyarrow-7.0.0-cp38-cp38-macosx_10_13_x86_64.whl (20.2 MB)\n",
      "     |████████████████████████████████| 20.2 MB 6.4 MB/s            \n",
      "\u001b[?25hRequirement already satisfied: protobuf>=2.6.0 in /opt/anaconda3/lib/python3.8/site-packages (from graphistry) (3.19.1)\n",
      "Requirement already satisfied: python-dateutil>=2.7.3 in /opt/anaconda3/lib/python3.8/site-packages (from pandas>=0.17.0->graphistry) (2.8.1)\n",
      "Requirement already satisfied: pytz>=2017.3 in /opt/anaconda3/lib/python3.8/site-packages (from pandas>=0.17.0->graphistry) (2021.1)\n",
      "Requirement already satisfied: urllib3<1.27,>=1.21.1 in /opt/anaconda3/lib/python3.8/site-packages (from requests->graphistry) (1.26.4)\n",
      "Requirement already satisfied: chardet<5,>=3.0.2 in /opt/anaconda3/lib/python3.8/site-packages (from requests->graphistry) (4.0.0)\n",
      "Requirement already satisfied: idna<3,>=2.5 in /opt/anaconda3/lib/python3.8/site-packages (from requests->graphistry) (2.10)\n",
      "Requirement already satisfied: certifi>=2017.4.17 in /opt/anaconda3/lib/python3.8/site-packages (from requests->graphistry) (2020.12.5)\n",
      "Requirement already satisfied: six>=1.5 in /opt/anaconda3/lib/python3.8/site-packages (from python-dateutil>=2.7.3->pandas>=0.17.0->graphistry) (1.15.0)\n",
      "Installing collected packages: pyarrow, graphistry\n",
      "Successfully installed graphistry-0.23.2 pyarrow-7.0.0\n",
      "\u001b[33mWARNING: You are using pip version 21.3.1; however, version 22.0.4 is available.\n",
      "You should consider upgrading via the '/opt/anaconda3/bin/python -m pip install --upgrade pip' command.\u001b[0m\n",
      "Note: you may need to restart the kernel to use updated packages.\n"
     ]
    }
   ],
   "source": [
    "pip install graphistry"
   ]
  },
  {
   "cell_type": "code",
   "execution_count": 3,
   "id": "4d15ea88",
   "metadata": {},
   "outputs": [],
   "source": [
    "import pandas as pd\n",
    "import graphistry\n",
    "\n",
    "graphistry.register(api=1, protocol=\"https\", server=\"hub.graphistry.com\", key=\"4f55eede43c4020fbe604f4bb159737568e7e890c202fc943f2164dd1bdc4adf\")\n"
   ]
  },
  {
   "cell_type": "code",
   "execution_count": 9,
   "id": "b1c7ed14",
   "metadata": {},
   "outputs": [
    {
     "data": {
      "text/html": [
       "<div>\n",
       "<style scoped>\n",
       "    .dataframe tbody tr th:only-of-type {\n",
       "        vertical-align: middle;\n",
       "    }\n",
       "\n",
       "    .dataframe tbody tr th {\n",
       "        vertical-align: top;\n",
       "    }\n",
       "\n",
       "    .dataframe thead th {\n",
       "        text-align: right;\n",
       "    }\n",
       "</style>\n",
       "<table border=\"1\" class=\"dataframe\">\n",
       "  <thead>\n",
       "    <tr style=\"text-align: right;\">\n",
       "      <th></th>\n",
       "      <th>Subject</th>\n",
       "      <th>Predicate</th>\n",
       "      <th>Object</th>\n",
       "    </tr>\n",
       "  </thead>\n",
       "  <tbody>\n",
       "    <tr>\n",
       "      <th>0</th>\n",
       "      <td>AAC(3)-Ia</td>\n",
       "      <td>confers resistance to antibiotic</td>\n",
       "      <td>Aminoglycosides</td>\n",
       "    </tr>\n",
       "    <tr>\n",
       "      <th>1</th>\n",
       "      <td>AAC(3)-Ia</td>\n",
       "      <td>confers resistance to antibiotic</td>\n",
       "      <td>Gentamicin</td>\n",
       "    </tr>\n",
       "    <tr>\n",
       "      <th>2</th>\n",
       "      <td>AAC(3)-Ia</td>\n",
       "      <td>confers resistance to antibiotic</td>\n",
       "      <td>Streptomycin</td>\n",
       "    </tr>\n",
       "    <tr>\n",
       "      <th>3</th>\n",
       "      <td>AAC(3)-Ia</td>\n",
       "      <td>has</td>\n",
       "      <td>response to antibiotic</td>\n",
       "    </tr>\n",
       "    <tr>\n",
       "      <th>4</th>\n",
       "      <td>AAC(3)-VIa</td>\n",
       "      <td>confers resistance to antibiotic</td>\n",
       "      <td>Aminoglycosides</td>\n",
       "    </tr>\n",
       "  </tbody>\n",
       "</table>\n",
       "</div>"
      ],
      "text/plain": [
       "      Subject                         Predicate                  Object\n",
       "0   AAC(3)-Ia  confers resistance to antibiotic         Aminoglycosides\n",
       "1   AAC(3)-Ia  confers resistance to antibiotic              Gentamicin\n",
       "2   AAC(3)-Ia  confers resistance to antibiotic            Streptomycin\n",
       "3   AAC(3)-Ia                               has  response to antibiotic\n",
       "4  AAC(3)-VIa  confers resistance to antibiotic         Aminoglycosides"
      ]
     },
     "execution_count": 9,
     "metadata": {},
     "output_type": "execute_result"
    }
   ],
   "source": [
    "# load data\n",
    "pd_data = pd.read_table('kg_without_inconsistencies.txt', sep='\\t')\n",
    "pd_data = pd_data[['Subject', 'Predicate', 'Object']]\n",
    "pd_data.head()\n"
   ]
  },
  {
   "cell_type": "code",
   "execution_count": 12,
   "id": "1355529a",
   "metadata": {},
   "outputs": [
    {
     "name": "stderr",
     "output_type": "stream",
     "text": [
      "<ipython-input-12-ec18568fb1bf>:46: SettingWithCopyWarning: \n",
      "A value is trying to be set on a copy of a slice from a DataFrame.\n",
      "Try using .loc[row_indexer,col_indexer] = value instead\n",
      "\n",
      "See the caveats in the documentation: https://pandas.pydata.org/pandas-docs/stable/user_guide/indexing.html#returning-a-view-versus-a-copy\n",
      "  pd_pos_data['Predicate Category'] = pd_pos_data['Predicate'].apply(lambda x: map_func(x))\n"
     ]
    }
   ],
   "source": [
    "\n",
    "# filter positives only\n",
    "neg_predicates = [\n",
    "    'confers no resistance to antibiotic',\n",
    "    'is not regulated by antibiotic',\n",
    "    'is not mutated by antibiotic',\n",
    "    'no represses',\n",
    "    'no activates',]\n",
    "\n",
    "def _check_match(x, predicates):\n",
    "    flag = False\n",
    "    for predicate in predicates:\n",
    "        if predicate in x:\n",
    "            flag = True\n",
    "    return flag\n",
    "\n",
    "pd_pos_data = pd_data[~pd_data['Predicate'].apply(lambda x: _check_match(x, neg_predicates))]\n",
    "\n",
    "# assign predicate category\n",
    "def map_func(label):\n",
    "    if 'confers resistance to antibiotic' in label:\n",
    "        return 'confers resistance to antibiotic'\n",
    "    elif 'upregulated by antibiotic' in label:\n",
    "        return 'upregulated by antibiotic'\n",
    "    elif 'represses' in label:\n",
    "        return 'represses'\n",
    "    elif 'activates' in label:\n",
    "        return 'activates'\n",
    "    elif 'has' in label:\n",
    "        return 'has'\n",
    "    elif 'is involved in' in label:\n",
    "        return 'is involved in'\n",
    "    elif 'is part of' in label:\n",
    "        return 'is part of'\n",
    "    elif 'targeted by' in label:\n",
    "        return 'targeted by'\n",
    "    elif 'is mutated by antibiotic' in label:\n",
    "        return 'is mutated by antibiotic'\n",
    "    elif 'is associated with resistance to antibiotic' in label:\n",
    "        return 'is associated with resistance to antibiotic'\n",
    "    elif 'is downregulated by antibiotic' in label:\n",
    "        return 'is downregulated by antibiotic'\n",
    "    \n",
    "    else:\n",
    "        raise ValueError('Invalid label: {}'.format(label))\n",
    "\n",
    "pd_pos_data['Predicate Category'] = pd_pos_data['Predicate'].apply(lambda x: map_func(x))\n",
    "\n",
    "###/home/jyoun/.local/lib/python3.6/site-packages/ipykernel_launcher.py:42: SettingWithCopyWarning: \n",
    "###A value is trying to be set on a copy of a slice from a DataFrame.\n",
    "###Try using .loc[row_indexer,col_indexer] = value instead\n",
    "\n",
    "\n",
    "#See the caveats in the documentation: https://pandas.pydata.org/pandas-docs/stable/user_guide/indexing.html#returning-a-view-versus-a-copy\n",
    "\n"
   ]
  },
  {
   "cell_type": "code",
   "execution_count": 15,
   "id": "670c4403",
   "metadata": {
    "scrolled": true
   },
   "outputs": [
    {
     "data": {
      "text/html": [
       "\n",
       "            <iframe id=\"c00bb089-2159-43ff-8bdd-971bae031d66\" src=\"https://hub.graphistry.com/graph/graph.html?dataset=2379af31fe4b5d6cbe6a81554bf19332&type=vgraph&viztoken=7da945f534ca4fb6916474c5fb4bdb43&usertag=9dcf53ba-pygraphistry-0.23.2&splashAfter=1649884497&info=true\"\n",
       "                    allowfullscreen=\"true\" webkitallowfullscreen=\"true\" mozallowfullscreen=\"true\"\n",
       "                    oallowfullscreen=\"true\" msallowfullscreen=\"true\"\n",
       "                    style=\"width:100%; height:500px; border: 1px solid #DDD; overflow: hidden\"\n",
       "                    \n",
       "            >\n",
       "            </iframe>\n",
       "        \n",
       "            <script>\n",
       "                try {\n",
       "                  $(\"#c00bb089-2159-43ff-8bdd-971bae031d66\").bind('mousewheel', function(e) { e.preventDefault(); });\n",
       "                } catch (e) { console.error('exn catching scroll', e); }\n",
       "            </script>\n",
       "        "
      ],
      "text/plain": [
       "<IPython.core.display.HTML object>"
      ]
     },
     "execution_count": 15,
     "metadata": {},
     "output_type": "execute_result"
    }
   ],
   "source": [
    "\n",
    "g = graphistry.bind(\n",
    "    source='Subject',\n",
    "    destination='Object',\n",
    "    edge_label='Predicate',)\n",
    "\n",
    "g.plot(pd_pos_data)"
   ]
  },
  {
   "cell_type": "code",
   "execution_count": 16,
   "id": "7549f9f0",
   "metadata": {},
   "outputs": [],
   "source": [
    "VIEW = \"10\"\n",
    "EDIT = \"20\"\n",
    "graphistry.privacy(\n",
    "  mode='private',\n",
    "  invited_users=[\n",
    "    {\"email\": \"asalim@ucdavis.edu\", \"action\": VIEW},\n",
    "    {\"email\": \"asalim@ucdavis.edu\", \"action\": EDIT}\n",
    "  ],\n",
    "  notify=True)"
   ]
  },
  {
   "cell_type": "code",
   "execution_count": null,
   "id": "31455018",
   "metadata": {},
   "outputs": [],
   "source": []
  },
  {
   "cell_type": "code",
   "execution_count": null,
   "id": "f472b46f",
   "metadata": {},
   "outputs": [],
   "source": []
  }
 ],
 "metadata": {
  "kernelspec": {
   "display_name": "Python 3",
   "language": "python",
   "name": "python3"
  },
  "language_info": {
   "codemirror_mode": {
    "name": "ipython",
    "version": 3
   },
   "file_extension": ".py",
   "mimetype": "text/x-python",
   "name": "python",
   "nbconvert_exporter": "python",
   "pygments_lexer": "ipython3",
   "version": "3.8.8"
  }
 },
 "nbformat": 4,
 "nbformat_minor": 5
}
